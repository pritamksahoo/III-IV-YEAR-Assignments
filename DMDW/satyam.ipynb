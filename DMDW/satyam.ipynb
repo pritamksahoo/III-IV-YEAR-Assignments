{
 "cells": [
  {
   "cell_type": "code",
   "execution_count": 16,
   "metadata": {},
   "outputs": [
    {
     "data": {
      "image/png": "[encoded data removed]",
      "text/plain": [
       "<Figure size 432x288 with 4 Axes>"
      ]
     },
     "metadata": {
      "needs_background": "light"
     },
     "output_type": "display_data"
    }
   ],
   "source": [
    "# Q1\n",
    "import pandas as pd\n",
    "import matplotlib.pyplot as plt\n",
    "%matplotlib inline\n",
    "\n",
    "if __name__ == '__main__':\n",
    "    cols = ['variance', 'skewness', 'curtosis', 'entropy', 'class']\n",
    "    data = pd.read_csv(\"/home/pks/Downloads/data_banknote_authentication.csv\", names=cols)\n",
    "    \n",
    "    data.boxplot(column=cols[:-1], by='class')\n",
    "    plt.show()"
   ]
  },
  {
   "cell_type": "code",
   "execution_count": 14,
   "metadata": {},
   "outputs": [
    {
     "data": {
      "text/html": [
       "<div>\n",
       "<style scoped>\n",
       "    .dataframe tbody tr th:only-of-type {\n",
       "        vertical-align: middle;\n",
       "    }\n",
       "\n",
       "    .dataframe tbody tr th {\n",
       "        vertical-align: top;\n",
       "    }\n",
       "\n",
       "    .dataframe thead th {\n",
       "        text-align: right;\n",
       "    }\n",
       "</style>\n",
       "<table border=\"1\" class=\"dataframe\">\n",
       "  <thead>\n",
       "    <tr style=\"text-align: right;\">\n",
       "      <th></th>\n",
       "      <th>variance</th>\n",
       "      <th>skewness</th>\n",
       "      <th>curtosis</th>\n",
       "      <th>entropy</th>\n",
       "      <th>class</th>\n",
       "    </tr>\n",
       "  </thead>\n",
       "  <tbody>\n",
       "    <tr>\n",
       "      <th>count</th>\n",
       "      <td>762.000000</td>\n",
       "      <td>762.000000</td>\n",
       "      <td>762.000000</td>\n",
       "      <td>762.000000</td>\n",
       "      <td>762.0</td>\n",
       "    </tr>\n",
       "    <tr>\n",
       "      <th>mean</th>\n",
       "      <td>2.276686</td>\n",
       "      <td>4.256627</td>\n",
       "      <td>0.796718</td>\n",
       "      <td>-1.147640</td>\n",
       "      <td>0.0</td>\n",
       "    </tr>\n",
       "    <tr>\n",
       "      <th>std</th>\n",
       "      <td>2.019348</td>\n",
       "      <td>5.138792</td>\n",
       "      <td>3.239894</td>\n",
       "      <td>2.125077</td>\n",
       "      <td>0.0</td>\n",
       "    </tr>\n",
       "    <tr>\n",
       "      <th>min</th>\n",
       "      <td>-4.285900</td>\n",
       "      <td>-6.932100</td>\n",
       "      <td>-4.941700</td>\n",
       "      <td>-8.548200</td>\n",
       "      <td>0.0</td>\n",
       "    </tr>\n",
       "    <tr>\n",
       "      <th>25%</th>\n",
       "      <td>0.883345</td>\n",
       "      <td>0.450063</td>\n",
       "      <td>-1.709700</td>\n",
       "      <td>-2.228250</td>\n",
       "      <td>0.0</td>\n",
       "    </tr>\n",
       "    <tr>\n",
       "      <th>50%</th>\n",
       "      <td>2.553100</td>\n",
       "      <td>5.668800</td>\n",
       "      <td>0.700605</td>\n",
       "      <td>-0.552380</td>\n",
       "      <td>0.0</td>\n",
       "    </tr>\n",
       "    <tr>\n",
       "      <th>75%</th>\n",
       "      <td>3.884450</td>\n",
       "      <td>8.691975</td>\n",
       "      <td>2.652925</td>\n",
       "      <td>0.423258</td>\n",
       "      <td>0.0</td>\n",
       "    </tr>\n",
       "    <tr>\n",
       "      <th>max</th>\n",
       "      <td>6.824800</td>\n",
       "      <td>12.951600</td>\n",
       "      <td>8.829400</td>\n",
       "      <td>2.449500</td>\n",
       "      <td>0.0</td>\n",
       "    </tr>\n",
       "  </tbody>\n",
       "</table>\n",
       "</div>"
      ],
      "text/plain": [
       "         variance    skewness    curtosis     entropy  class\n",
       "count  762.000000  762.000000  762.000000  762.000000  762.0\n",
       "mean     2.276686    4.256627    0.796718   -1.147640    0.0\n",
       "std      2.019348    5.138792    3.239894    2.125077    0.0\n",
       "min     -4.285900   -6.932100   -4.941700   -8.548200    0.0\n",
       "25%      0.883345    0.450063   -1.709700   -2.228250    0.0\n",
       "50%      2.553100    5.668800    0.700605   -0.552380    0.0\n",
       "75%      3.884450    8.691975    2.652925    0.423258    0.0\n",
       "max      6.824800   12.951600    8.829400    2.449500    0.0"
      ]
     },
     "execution_count": 14,
     "metadata": {},
     "output_type": "execute_result"
    }
   ],
   "source": [
    "# Q1\n",
    "data[data['class']==0].describe()"
   ]
  },
  {
   "cell_type": "code",
   "execution_count": 15,
   "metadata": {},
   "outputs": [
    {
     "data": {
      "text/html": [
       "<div>\n",
       "<style scoped>\n",
       "    .dataframe tbody tr th:only-of-type {\n",
       "        vertical-align: middle;\n",
       "    }\n",
       "\n",
       "    .dataframe tbody tr th {\n",
       "        vertical-align: top;\n",
       "    }\n",
       "\n",
       "    .dataframe thead th {\n",
       "        text-align: right;\n",
       "    }\n",
       "</style>\n",
       "<table border=\"1\" class=\"dataframe\">\n",
       "  <thead>\n",
       "    <tr style=\"text-align: right;\">\n",
       "      <th></th>\n",
       "      <th>variance</th>\n",
       "      <th>skewness</th>\n",
       "      <th>curtosis</th>\n",
       "      <th>entropy</th>\n",
       "      <th>class</th>\n",
       "    </tr>\n",
       "  </thead>\n",
       "  <tbody>\n",
       "    <tr>\n",
       "      <th>count</th>\n",
       "      <td>610.000000</td>\n",
       "      <td>610.000000</td>\n",
       "      <td>610.000000</td>\n",
       "      <td>610.000000</td>\n",
       "      <td>610.0</td>\n",
       "    </tr>\n",
       "    <tr>\n",
       "      <th>mean</th>\n",
       "      <td>-1.868443</td>\n",
       "      <td>-0.993576</td>\n",
       "      <td>2.148271</td>\n",
       "      <td>-1.246641</td>\n",
       "      <td>1.0</td>\n",
       "    </tr>\n",
       "    <tr>\n",
       "      <th>std</th>\n",
       "      <td>1.881183</td>\n",
       "      <td>5.404884</td>\n",
       "      <td>5.261811</td>\n",
       "      <td>2.070984</td>\n",
       "      <td>0.0</td>\n",
       "    </tr>\n",
       "    <tr>\n",
       "      <th>min</th>\n",
       "      <td>-7.042100</td>\n",
       "      <td>-13.773100</td>\n",
       "      <td>-5.286100</td>\n",
       "      <td>-7.588700</td>\n",
       "      <td>1.0</td>\n",
       "    </tr>\n",
       "    <tr>\n",
       "      <th>25%</th>\n",
       "      <td>-3.061450</td>\n",
       "      <td>-5.810025</td>\n",
       "      <td>-1.357500</td>\n",
       "      <td>-2.458375</td>\n",
       "      <td>1.0</td>\n",
       "    </tr>\n",
       "    <tr>\n",
       "      <th>50%</th>\n",
       "      <td>-1.806100</td>\n",
       "      <td>0.172775</td>\n",
       "      <td>0.373720</td>\n",
       "      <td>-0.661650</td>\n",
       "      <td>1.0</td>\n",
       "    </tr>\n",
       "    <tr>\n",
       "      <th>75%</th>\n",
       "      <td>-0.541770</td>\n",
       "      <td>3.189275</td>\n",
       "      <td>5.626350</td>\n",
       "      <td>0.341790</td>\n",
       "      <td>1.0</td>\n",
       "    </tr>\n",
       "    <tr>\n",
       "      <th>max</th>\n",
       "      <td>2.391700</td>\n",
       "      <td>9.601400</td>\n",
       "      <td>17.927400</td>\n",
       "      <td>2.135300</td>\n",
       "      <td>1.0</td>\n",
       "    </tr>\n",
       "  </tbody>\n",
       "</table>\n",
       "</div>"
      ],
      "text/plain": [
       "         variance    skewness    curtosis     entropy  class\n",
       "count  610.000000  610.000000  610.000000  610.000000  610.0\n",
       "mean    -1.868443   -0.993576    2.148271   -1.246641    1.0\n",
       "std      1.881183    5.404884    5.261811    2.070984    0.0\n",
       "min     -7.042100  -13.773100   -5.286100   -7.588700    1.0\n",
       "25%     -3.061450   -5.810025   -1.357500   -2.458375    1.0\n",
       "50%     -1.806100    0.172775    0.373720   -0.661650    1.0\n",
       "75%     -0.541770    3.189275    5.626350    0.341790    1.0\n",
       "max      2.391700    9.601400   17.927400    2.135300    1.0"
      ]
     },
     "execution_count": 15,
     "metadata": {},
     "output_type": "execute_result"
    }
   ],
   "source": [
    "# Q1\n",
    "data[data['class']==1].describe()"
   ]
  },
  {
   "cell_type": "code",
   "execution_count": 17,
   "metadata": {},
   "outputs": [
    {
     "data": {
      "image/png": "[encoded data removed]",
      "text/plain": [
       "<Figure size 432x288 with 4 Axes>"
      ]
     },
     "metadata": {
      "needs_background": "light"
     },
     "output_type": "display_data"
    }
   ],
   "source": [
    "# Q2\n",
    "import pandas as pd\n",
    "import matplotlib.pyplot as plt\n",
    "%matplotlib inline\n",
    "\n",
    "if __name__ == '__main__':\n",
    "    cols = ['sepal_length', 'sepal_width', 'petal_length', 'petal_width', 'class']\n",
    "    data = pd.read_csv(\"/home/pks/Downloads/iris.data\", names=cols)"
   ]
  },
  {
   "cell_type": "code",
   "execution_count": 20,
   "metadata": {},
   "outputs": [
    {
     "data": {
      "image/png": "[encoded data removed]",
      "text/plain": [
       "<Figure size 432x288 with 1 Axes>"
      ]
     },
     "metadata": {
      "needs_background": "light"
     },
     "output_type": "display_data"
    },
    {
     "data": {
      "image/png": "[encoded data removed]",
      "text/plain": [
       "<Figure size 432x288 with 1 Axes>"
      ]
     },
     "metadata": {
      "needs_background": "light"
     },
     "output_type": "display_data"
    },
    {
     "data": {
      "image/png": "[encoded data removed]",
      "text/plain": [
       "<Figure size 432x288 with 1 Axes>"
      ]
     },
     "metadata": {
      "needs_background": "light"
     },
     "output_type": "display_data"
    },
    {
     "data": {
      "image/png": "[encoded data removed]",
      "text/plain": [
       "<Figure size 432x288 with 1 Axes>"
      ]
     },
     "metadata": {
      "needs_background": "light"
     },
     "output_type": "display_data"
    }
   ],
   "source": [
    "# Q2\n",
    "if __name__ == '__main__':\n",
    "    plt.scatter(data[data['class']=='Iris-setosa'][cols[0]], data[data['class']=='Iris-setosa'][cols[1]], s=14, color='red')\n",
    "    plt.scatter(data[data['class']=='Iris-versicolor'][cols[0]], data[data['class']=='Iris-versicolor'][cols[1]], s=14, color='green')\n",
    "    plt.scatter(data[data['class']=='Iris-virginica'][cols[0]], data[data['class']=='Iris-versicolor'][cols[1]], s=14, color='green')\n",
    "    plt.xlabel('age')\n",
    "    plt.ylabel('axil_nodes')\n",
    "    plt.show()\n",
    "    \n",
    "    plt.scatter(data[data['class']=='Iris-setosa'][cols[3]], data[data['class']=='Iris-setosa'][cols[2]], s=8, color='red')\n",
    "    plt.scatter(data[data['class']=='Iris-versicolor'][cols[3]], data[data['class']=='Iris-versicolor'][cols[2]], s=8, color='green')\n",
    "    plt.scatter(data[data['class']=='Iris-virginica'][cols[3]], data[data['class']=='Iris-versicolor'][cols[2]], s=8, color='green')\n",
    "    plt.xlabel('age')\n",
    "    plt.ylabel('operation_year')\n",
    "    plt.show()\n",
    "    \n",
    "    plt.scatter(data[data['class']=='Iris-setosa'][cols[1]], data[data['class']=='Iris-setosa'][cols[2]], s=8, color='red')\n",
    "    plt.scatter(data[data['class']=='Iris-versicolor'][cols[1]], data[data['class']=='Iris-versicolor'][cols[2]], s=8, color='green')\n",
    "    plt.scatter(data[data['class']=='Iris-virginica'][cols[1]], data[data['class']=='Iris-versicolor'][cols[2]], s=8, color='green')\n",
    "    plt.xlabel('axil_nodes')\n",
    "    plt.ylabel('operation_year')\n",
    "    plt.show()\n",
    "    \n",
    "    plt.scatter(data[data['class']=='Iris-setosa'][cols[0]], data[data['class']=='Iris-setosa'][cols[3]], s=8, color='red')\n",
    "    plt.scatter(data[data['class']=='Iris-versicolor'][cols[0]], data[data['class']=='Iris-versicolor'][cols[3]], s=8, color='green')\n",
    "    plt.scatter(data[data['class']=='Iris-virginica'][cols[0]], data[data['class']=='Iris-versicolor'][cols[3]], s=8, color='green')\n",
    "    plt.xlabel('axil_nodes')\n",
    "    plt.ylabel('operation_year')\n",
    "    plt.show()"
   ]
  },
  {
   "cell_type": "code",
   "execution_count": null,
   "metadata": {},
   "outputs": [],
   "source": []
  }
 ],
 "metadata": {
  "kernelspec": {
   "display_name": "Python 3",
   "language": "python",
   "name": "python3"
  },
  "language_info": {
   "codemirror_mode": {
    "name": "ipython",
    "version": 3
   },
   "file_extension": ".py",
   "mimetype": "text/x-python",
   "name": "python",
   "nbconvert_exporter": "python",
   "pygments_lexer": "ipython3",
   "version": "3.7.3"
  }
 },
 "nbformat": 4,
 "nbformat_minor": 2
}
