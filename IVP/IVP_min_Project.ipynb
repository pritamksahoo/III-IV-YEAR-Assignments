{
 "cells": [
  {
   "cell_type": "code",
   "execution_count": 1,
   "metadata": {},
   "outputs": [],
   "source": [
    "import cv2 as cv\n",
    "import numpy as np"
   ]
  },
  {
   "cell_type": "code",
   "execution_count": 3,
   "metadata": {},
   "outputs": [],
   "source": [
    "path = \"/home/pks/Downloads/Assignment/IVP/mini project/\""
   ]
  },
  {
   "cell_type": "code",
   "execution_count": 5,
   "metadata": {},
   "outputs": [],
   "source": [
    "image = cv.imread(path+\"sample1.jpg\", 0)"
   ]
  },
  {
   "cell_type": "code",
   "execution_count": 133,
   "metadata": {},
   "outputs": [],
   "source": [
    "import cv2 as cv\n",
    "import numpy as np\n",
    "import matplotlib.pyplot as plt\n",
    "\n",
    "# try:\n",
    "if __name__ == '__main__':\n",
    "    path = \"/home/pks/Downloads/Assignment/IVP/mini project/\"\n",
    "    image = cv.imread(path+\"sample1.jpg\", 0)\n",
    "\n",
    "    cv.namedWindow('org',cv.WINDOW_NORMAL)\n",
    "    cv.resizeWindow('org', 600,600)\n",
    "    cv.imshow(\"org\", image)\n",
    "    cv.waitKey(0)\n",
    "    \n",
    "    blur = cv.GaussianBlur(image, (3,3), 0)\n",
    "    \n",
    "    thresh = cv.Canny(blur,50,100,apertureSize = 3)\n",
    "#     thresh = cv.adaptiveThreshold(image, 255, cv.ADAPTIVE_THRESH_GAUSSIAN_C, cv.THRESH_BINARY,11,2)\n",
    "    cv.imshow(\"org\", thresh)\n",
    "    cv.waitKey(0)\n",
    "\n",
    "    temp_img, contours, hierarchy = cv.findContours(thresh, cv.RETR_EXTERNAL, cv.CHAIN_APPROX_SIMPLE)\n",
    "    cnts = sorted(contours, key=lambda x: cv.contourArea(x), reverse=True)[:1]\n",
    "    blank = np.zeros(image.shape, np.uint8)\n",
    "#     c = max(contours, key = cv.contourArea)\n",
    "    cv.drawContours(blank, cnts, -1, 255, -1)\n",
    "    \n",
    "    cv.imshow(\"org\", blank)\n",
    "    cv.waitKey(0)\n",
    "    \n",
    "    \n",
    "#     img = image.copy()\n",
    "    \n",
    "#     cv.rectangle(img,(x,y),(x+w,y+h),(0,255,0),2)\n",
    "#     cv.imshow(\"org\", img)\n",
    "#     cv.waitKey(0)\n",
    "    \n",
    "#     print(x,y,w,h)\n",
    "#     image = image[y:y+h+1, x:x+w+1]\n",
    "#     cv.imshow(\"cn\", image)\n",
    "#     cv.waitKey(0)\n",
    "    \n",
    "#     edges = cv.Canny(image,50,100,apertureSize = 3)\n",
    "# #     ret, edges = cv.threshold(image, 115, 255, cv.THRESH_BINARY_INV)\n",
    "#     cv.imshow(\"org\", edges)\n",
    "#     cv.waitKey(0)\n",
    "    \n",
    "#     minLineLength = 100\n",
    "#     maxLineGap = 10\n",
    "#     lines = cv.HoughLinesP(edges,1,np.pi/180,100,minLineLength,maxLineGap)\n",
    "#     for x1,y1,x2,y2 in lines[0]:\n",
    "#         cv.line(image,(x1,y1),(x2,y2),(0,255,0),2)\n",
    "        \n",
    "#     cv.namedWindow('lines',cv.WINDOW_NORMAL)\n",
    "#     cv.resizeWindow('lines', 600,600)\n",
    "#     cv.imshow(\"lines\", image)\n",
    "#     cv.waitKey(0)\n",
    "    \n",
    "\n",
    "#     lines = cv.HoughLines(edges,1,np.pi/180,200)\n",
    "    \n",
    "#     points = np.array([[line[0][0], line[0][1]] for line in lines])\n",
    "#     points = np.float32(points)\n",
    "        \n",
    "#     criteria = (cv.TERM_CRITERIA_EPS + cv.TERM_CRITERIA_MAX_ITER, 20, 1.0)\n",
    "#     flags = cv.KMEANS_PP_CENTERS\n",
    "#     compactness,labels,centers = cv.kmeans(points,24,None,criteria,50,flags)\n",
    "    \n",
    "#     labels = labels.ravel()\n",
    "    \n",
    "#     lines = []\n",
    "#     for i in range(24):\n",
    "#         a = points[labels==i]\n",
    "#         lines.append(np.mean(a, axis=0))\n",
    "        \n",
    "    \n",
    "#     for rho, theta in lines:\n",
    "#         a = np.cos(theta)\n",
    "#         b = np.sin(theta)\n",
    "#         x0 = a*rho\n",
    "#         y0 = b*rho\n",
    "#         x1 = int(x0 + 1000*(-b))\n",
    "#         y1 = int(y0 + 1000*(a))\n",
    "#         x2 = int(x0 - 1000*(-b))\n",
    "#         y2 = int(y0 - 1000*(a))\n",
    "\n",
    "#         cv.line(image,(x1,y1),(x2,y2),(0,0,255),2)\n",
    "\n",
    "#     cv.namedWindow('lines',cv.WINDOW_NORMAL)\n",
    "#     cv.resizeWindow('lines', 600,600)\n",
    "#     cv.imshow(\"lines\", image)\n",
    "#     cv.waitKey(0)\n",
    "\n",
    "    cv.destroyAllWindows()\n",
    "\n",
    "# except Exception as e:\n",
    "#     print(e)\n",
    "#     cv.destroyAllWindows()"
   ]
  },
  {
   "cell_type": "code",
   "execution_count": null,
   "metadata": {},
   "outputs": [],
   "source": [
    "\n"
   ]
  }
 ],
 "metadata": {
  "kernelspec": {
   "display_name": "Python 3",
   "language": "python",
   "name": "python3"
  },
  "language_info": {
   "codemirror_mode": {
    "name": "ipython",
    "version": 3
   },
   "file_extension": ".py",
   "mimetype": "text/x-python",
   "name": "python",
   "nbconvert_exporter": "python",
   "pygments_lexer": "ipython3",
   "version": "3.6.8"
  }
 },
 "nbformat": 4,
 "nbformat_minor": 2
}
