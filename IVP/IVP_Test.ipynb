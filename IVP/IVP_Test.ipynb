{
 "cells": [
  {
   "cell_type": "code",
   "execution_count": 1,
   "metadata": {},
   "outputs": [],
   "source": [
    "import cv2 as cv\n",
    "import numpy as np"
   ]
  },
  {
   "cell_type": "code",
   "execution_count": null,
   "metadata": {},
   "outputs": [],
   "source": [
    "path = \"/home/pks/Downloads/Assignment/IVP/mini project/\""
   ]
  },
  {
   "cell_type": "code",
   "execution_count": 59,
   "metadata": {},
   "outputs": [],
   "source": [
    "import cv2 as cv\n",
    "import numpy as np\n",
    "import imutils\n",
    "\n",
    "path = \"/home/pks/Downloads/Assignment/IVP/mini project/\"\n",
    "\n",
    "def wh_ratio(c):\n",
    "    contours_poly = cv.approxPolyDP(c, 3, True)\n",
    "    boundRect = cv.boundingRect(contours_poly)\n",
    "    \n",
    "    w, h = boundRect[2], boundRect[3]\n",
    "    return (w/h)\n",
    "\n",
    "def f(c, th):\n",
    "    contours_poly = cv.approxPolyDP(c, 3, True)\n",
    "    boundRect = cv.boundingRect(contours_poly)\n",
    "    \n",
    "    return boundRect\n",
    "\n",
    "def number_extraction(image):\n",
    "    \n",
    "    image = cv.GaussianBlur(image, (3,3), 0)\n",
    "    cv.imshow(\"img\", image)\n",
    "    cv.waitKey(0)\n",
    "\n",
    "    # _, thresh = cv.threshold(image, 0, 255, cv.THRESH_BINARY_INV+cv.THRESH_OTSU)\n",
    "    # thresh = cv.adaptiveThreshold(image, 255, cv.ADAPTIVE_THRESH_MEAN_C, cv.THRESH_BINARY_INV, 11, 2)\n",
    "    thresh = cv.Canny(image, 80, 120)\n",
    "#     cv.imshow(\"thresh\", thresh)\n",
    "#     cv.waitKey(0)\n",
    "    \n",
    "    kernel = np.ones((3,3), np.uint8)\n",
    "    thresh = cv.dilate(thresh, kernel, iterations=1)\n",
    "    thresh = cv.erode(thresh, kernel, iterations=1)\n",
    "\n",
    "    cnts = cv.findContours(thresh.copy(), cv.RETR_EXTERNAL, cv.CHAIN_APPROX_SIMPLE)\n",
    "    cnts = imutils.grab_contours(cnts)\n",
    "    cnts = list(filter(lambda x:cv.contourArea(x) > 80, cnts))\n",
    "    cnts = list(filter(lambda x:wh_ratio(x) < 3.5 and wh_ratio(x) > 0.28, cnts))\n",
    "    c = sorted(cnts, key=cv.contourArea, reverse=True)\n",
    "\n",
    "    drawing = image.copy()\n",
    "    rect = list()\n",
    "    for c_el in c:\n",
    "        boundRect = f(c_el, thresh)\n",
    "#         print(boundRect)\n",
    "        rect.append([(int(boundRect[0]), int(boundRect[1])), (int(boundRect[0]+boundRect[2]), int(boundRect[1]+boundRect[3]))])\n",
    "\n",
    "        cv.rectangle(drawing, (int(boundRect[0]), int(boundRect[1])), (int(boundRect[0]+boundRect[2]), int(boundRect[1]+boundRect[3])), 0, 1)\n",
    "\n",
    "    cv.imshow(\"wrap\", drawing)\n",
    "    cv.waitKey(0)\n",
    "    \n",
    "    left_coord = sorted(rect, key=lambda x: (x[0][0], x[1][0]))\n",
    "    right_coord = sorted(rect, key=lambda x: (x[0][1], x[1][1]))\n",
    "    \n",
    "    image = image[right_coord[0][0][1]:right_coord[-1][1][1], left_coord[0][0][0]:left_coord[-1][1][0]]\n",
    "    cv.imshow(\"gg\", image)\n",
    "    cv.waitKey(0)\n",
    "    \n",
    "    _, thresh = cv.threshold(image, 0, 255, cv.THRESH_BINARY_INV+cv.THRESH_OTSU)\n",
    "#     cv.imshow(\"tt\", thresh)\n",
    "#     cv.waitKey(0)\n",
    "    \n",
    "    cnts = cv.findContours(thresh.copy(), cv.RETR_EXTERNAL, cv.CHAIN_APPROX_SIMPLE)\n",
    "    cnts = imutils.grab_contours(cnts)\n",
    "    \n",
    "    drawing = image.copy()\n",
    "    ret_val = []\n",
    "    for c_el in cnts:\n",
    "        boundRect = f(c_el, thresh)\n",
    "        cv.rectangle(drawing, (int(boundRect[0]), int(boundRect[1])), (int(boundRect[0]+boundRect[2]), int(boundRect[1]+boundRect[3])), 0, 1)\n",
    "        ret_val.append([(int(boundRect[0]), int(boundRect[1])), (int(boundRect[0]+boundRect[2]), int(boundRect[1]+boundRect[3]))])\n",
    "        \n",
    "    cv.imshow(\"wrap\", drawing)\n",
    "    cv.waitKey(0)\n",
    "    \n",
    "    return ret_val, image\n",
    "\n",
    "image = cv.imread(path+\"img12.jpg\", 0)\n",
    "ret, thresh = number_extraction(image.copy())\n",
    "\n",
    "ret = sorted(ret, key=lambda x: (x[0], x[1]))\n",
    "for r in ret:\n",
    "    temp = thresh[r[0][1]:r[1][1], r[0][0]:r[1][0]]\n",
    "    cv.imshow(\"temp\", temp)\n",
    "    cv.waitKey(0)\n",
    "# kernel = np.ones((3,3), np.uint8)\n",
    "# # e = cv.dilate(thresh, kernel, iterations=1)\n",
    "# e = cv.erode(ret, kernel, iterations=1)\n",
    "# cv.imshow(\"erode\", e)\n",
    "# cv.waitKey(0)\n",
    "\n",
    "\n",
    "cv.destroyAllWindows()"
   ]
  },
  {
   "cell_type": "code",
   "execution_count": 21,
   "metadata": {},
   "outputs": [
    {
     "data": {
      "text/plain": [
       "<function GaussianBlur>"
      ]
     },
     "execution_count": 21,
     "metadata": {},
     "output_type": "execute_result"
    }
   ],
   "source": [
    "cv.GaussianBlur"
   ]
  },
  {
   "cell_type": "code",
   "execution_count": null,
   "metadata": {},
   "outputs": [],
   "source": []
  }
 ],
 "metadata": {
  "kernelspec": {
   "display_name": "Python 3",
   "language": "python",
   "name": "python3"
  },
  "language_info": {
   "codemirror_mode": {
    "name": "ipython",
    "version": 3
   },
   "file_extension": ".py",
   "mimetype": "text/x-python",
   "name": "python",
   "nbconvert_exporter": "python",
   "pygments_lexer": "ipython3",
   "version": "3.6.8"
  }
 },
 "nbformat": 4,
 "nbformat_minor": 2
}
