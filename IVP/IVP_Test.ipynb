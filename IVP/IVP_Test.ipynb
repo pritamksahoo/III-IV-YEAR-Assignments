{
 "cells": [
  {
   "cell_type": "code",
   "execution_count": 1,
   "metadata": {},
   "outputs": [],
   "source": [
    "import cv2 as cv\n",
    "import numpy as np"
   ]
  },
  {
   "cell_type": "code",
   "execution_count": null,
   "metadata": {},
   "outputs": [],
   "source": [
    "path = \"/home/pks/Downloads/Assignment/IVP/mini project/\""
   ]
  },
  {
   "cell_type": "code",
   "execution_count": 24,
   "metadata": {},
   "outputs": [
    {
     "name": "stdout",
     "output_type": "stream",
     "text": [
      "41 46 (0, 0, 20, 2) 40\n",
      "41 46 (22, 1, 1, 1) 1\n",
      "41 46 (8, 15, 25, 19) 475\n",
      "rect [[(8, 15), (33, 34)]]\n",
      "(8, 15) (33, 34)\n"
     ]
    }
   ],
   "source": [
    "import cv2 as cv\n",
    "import numpy as np\n",
    "import imutils\n",
    "\n",
    "path = \"/home/pks/Downloads/Assignment/IVP/mini project/\"\n",
    "\n",
    "def approx_rect(con):\n",
    "    '''\n",
    "    Determine boundary rectangle of a contour\n",
    "    Parameters:\n",
    "        con : Given contour\n",
    "    Returns:\n",
    "        Boundary Rectangle\n",
    "    '''\n",
    "    \n",
    "    contours_poly = cv.approxPolyDP(con, 3, True)\n",
    "    boundRect = cv.boundingRect(contours_poly)\n",
    "    return boundRect\n",
    "\n",
    "def all_contour(th):\n",
    "    '''\n",
    "    Returns all contour and the particular contours which may contain digit\n",
    "    '''\n",
    "    \n",
    "    cnts = cv.findContours(th.copy(), cv.RETR_EXTERNAL, cv.CHAIN_APPROX_SIMPLE)\n",
    "    cnts = imutils.grab_contours(cnts)\n",
    "    \n",
    "    cnts = sorted(cnts, key=lambda x: x[0][0][0])\n",
    "\n",
    "    drawing = image.copy()\n",
    "    rect = list()\n",
    "    for c_el in cnts:\n",
    "        boundRect = approx_rect(c_el)\n",
    "        area, wh_ratio = boundRect[2]*boundRect[3], boundRect[2]/boundRect[3] \n",
    "        top, left = th.shape\n",
    "        print(top, left, boundRect, area)\n",
    "#         if area > 80 and area < 300 and wh_ratio < 3.5 and wh_ratio > 0.28:\n",
    "        if 10 <= boundRect[3] <= 25 and 2 <= boundRect[2] <= 25 and 10 < area < 500 and boundRect[0] < left-5 and boundRect[1] > 5:\n",
    "            rect.append([(int(boundRect[0]), int(boundRect[1])), (int(boundRect[0]+boundRect[2]), int(boundRect[1]+boundRect[3]))])\n",
    "            \n",
    "        cv.rectangle(drawing, (int(boundRect[0]), int(boundRect[1])), (int(boundRect[0]+boundRect[2]), int(boundRect[1]+boundRect[3])), 0, 1)\n",
    "    cv.imshow(\"wrap\", drawing)\n",
    "    cv.waitKey(0)\n",
    "        \n",
    "    return rect, cnts\n",
    "\n",
    "def number_extraction(image):\n",
    "    \n",
    "#     image = cv.GaussianBlur(image, (3,3), 0)\n",
    "    cv.imshow(\"img\", image)\n",
    "    cv.waitKey(0)\n",
    "\n",
    "    _, thresh = cv.threshold(image, 0, 255, cv.THRESH_BINARY_INV+cv.THRESH_OTSU)\n",
    "#     thresh = cv.adaptiveThreshold(image, 255, cv.ADAPTIVE_THRESH_MEAN_C, cv.THRESH_BINARY_INV, 11, 2)\n",
    "#     thresh = cv.Canny(image, 80, 120)\n",
    "    cv.imshow(\"threshprev\", thresh)\n",
    "    cv.waitKey(0)\n",
    "    \n",
    "#     kernel = np.ones((3,3), np.uint8)\n",
    "    kernel = cv.getStructuringElement(cv.MORPH_ELLIPSE, (2, 3))\n",
    "#     thresh1 = cv.dilate(thresh, kernel, iterations=1)\n",
    "#     cv.imshow(\"thresh\", thresh1)\n",
    "#     cv.waitKey(0)\n",
    "    \n",
    "#     thresh1 = cv.erode(thresh1, kernel, iterations=1)\n",
    "# #     thresh1 = cv.morphologyEx(thresh, cv.MORPH_OPEN, kernel)\n",
    "#     cv.imshow(\"thresh\", thresh1)\n",
    "#     cv.waitKey(0)\n",
    "\n",
    "    thresh1 = cv.morphologyEx(thresh, cv.MORPH_CLOSE, kernel)\n",
    "\n",
    "#     thresh2 = cv.erode(thresh1, kernel, iterations=1)\n",
    "#     thresh1 = cv.morphologyEx(thresh, cv.MORPH_OPEN, kernel)\n",
    "    cv.imshow(\"thresh2\", thresh1)\n",
    "    cv.waitKey(0)\n",
    "    \n",
    "    rect, cnts = all_contour(thresh1)\n",
    "    print(\"rect\", rect)\n",
    "    if len(rect) == 0:\n",
    "        rect, cnts = all_contour(thresh)\n",
    "        print(\"rect\", rect)\n",
    "    \n",
    "    if len(rect) == 0:\n",
    "        return [], image\n",
    "    else:\n",
    "        left = min(rect, key=lambda x: x[0][0])[0][0]\n",
    "        right = max(rect, key=lambda x: x[1][0])[1][0]\n",
    "        top = min(rect, key=lambda x: x[0][1])[0][1]\n",
    "        bottom = max(rect, key=lambda x: x[1][1])[1][1]\n",
    "        \n",
    "        drawing = image.copy()\n",
    "        ret_val = []\n",
    "        for c_el in cnts:\n",
    "            boundRect = approx_rect(c_el)\n",
    "            start, end = (int(boundRect[0]), int(boundRect[1])), (int(boundRect[0]+boundRect[2]), int(boundRect[1]+boundRect[3]))\n",
    "            cv.rectangle(drawing, start, end, 0, 1)\n",
    "\n",
    "            if top <= start[1] and bottom >= end[1] and left <= start[0] and right >= end[0]:\n",
    "                ret_val.append([(int(boundRect[0]), int(boundRect[1])), (int(boundRect[0]+boundRect[2]), int(boundRect[1]+boundRect[3]))])\n",
    "                print(start, end)\n",
    "        cv.imshow(\"wrap\", drawing)\n",
    "        cv.waitKey(0)\n",
    "\n",
    "        return ret_val, image\n",
    "\n",
    "image = cv.imread(path+\"img20.jpg\", 0)\n",
    "ret, thresh = number_extraction(image.copy())\n",
    "\n",
    "ret = sorted(ret, key=lambda x: (x[0], x[1]))\n",
    "counter = 0\n",
    "for r in ret:\n",
    "    temp = thresh[r[0][1]:r[1][1], r[0][0]:r[1][0]]\n",
    "    cv.imshow(\"temp\", temp)\n",
    "    cv.waitKey(0)\n",
    "    cv.imwrite(path + \"i\" + str(counter) + \".jpg\", temp)\n",
    "    counter = counter + 1\n",
    "\n",
    "\n",
    "cv.destroyAllWindows()"
   ]
  },
  {
   "cell_type": "code",
   "execution_count": 28,
   "metadata": {},
   "outputs": [
    {
     "data": {
      "text/plain": [
       "<function GaussianBlur>"
      ]
     },
     "execution_count": 28,
     "metadata": {},
     "output_type": "execute_result"
    }
   ],
   "source": [
    "cv.GaussianBlur"
   ]
  },
  {
   "cell_type": "code",
   "execution_count": null,
   "metadata": {},
   "outputs": [],
   "source": []
  }
 ],
 "metadata": {
  "kernelspec": {
   "display_name": "Python 3",
   "language": "python",
   "name": "python3"
  },
  "language_info": {
   "codemirror_mode": {
    "name": "ipython",
    "version": 3
   },
   "file_extension": ".py",
   "mimetype": "text/x-python",
   "name": "python",
   "nbconvert_exporter": "python",
   "pygments_lexer": "ipython3",
   "version": "3.6.8"
  }
 },
 "nbformat": 4,
 "nbformat_minor": 2
}
