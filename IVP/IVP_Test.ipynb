{
 "cells": [
  {
   "cell_type": "code",
   "execution_count": 1,
   "metadata": {},
   "outputs": [],
   "source": [
    "import cv2 as cv\n",
    "import numpy as np"
   ]
  },
  {
   "cell_type": "code",
   "execution_count": null,
   "metadata": {},
   "outputs": [],
   "source": [
    "path = \"/home/pks/Downloads/Assignment/IVP/mini project/\""
   ]
  },
  {
   "cell_type": "code",
   "execution_count": 1,
   "metadata": {},
   "outputs": [
    {
     "name": "stdout",
     "output_type": "stream",
     "text": [
      "2\n",
      "(22, 11, 10, 23)\n",
      "(48, 11, 9, 17)\n"
     ]
    }
   ],
   "source": [
    "import cv2 as cv\n",
    "import numpy as np\n",
    "import imutils\n",
    "\n",
    "path = \"/home/pks/Downloads/Assignment/IVP/mini project/\"\n",
    "\n",
    "def f(c, th):\n",
    "    contours_poly = cv.approxPolyDP(c, 3, True)\n",
    "    boundRect = cv.boundingRect(contours_poly)\n",
    "    \n",
    "    return boundRect\n",
    "\n",
    "image = cv.imread(path+\"img12.jpg\", 0)\n",
    "# image = cv.GaussianBlur(image, (3,3), 0)\n",
    "cv.imshow(\"img\", image)\n",
    "cv.waitKey(0)\n",
    "\n",
    "_, thresh = cv.threshold(image, 115, 255, cv.THRESH_BINARY_INV)\n",
    "# thresh = cv.Canny(image, 40, 90)\n",
    "# thresh = cv.resize(thresh, (28,28))\n",
    "cv.imshow(\"thresh\", thresh)\n",
    "cv.waitKey(0)\n",
    "\n",
    "cnts = cv.findContours(thresh.copy(), cv.RETR_EXTERNAL, cv.CHAIN_APPROX_SIMPLE)\n",
    "cnts = imutils.grab_contours(cnts)\n",
    "cnts = list(filter(lambda x:cv.contourArea(x) > 12, cnts))\n",
    "c = sorted(cnts, key=cv.contourArea, reverse=True)\n",
    "print(len(c))\n",
    "\n",
    "drawing = image.copy()\n",
    "for c_el in c:\n",
    "    boundRect = f(c_el, thresh)\n",
    "    print(boundRect)\n",
    "    \n",
    "    cv.rectangle(drawing, (int(boundRect[0]), int(boundRect[1])), (int(boundRect[0]+boundRect[2]), int(boundRect[1]+boundRect[3])), 0, 1)\n",
    "\n",
    "cv.imshow(\"wrap\", drawing)\n",
    "cv.waitKey(0)\n",
    "\n",
    "# kernel = np.ones((3,3), np.uint8)\n",
    "# # e = cv.dilate(thresh, kernel, iterations=1)\n",
    "# e = cv.erode(ret, kernel, iterations=1)\n",
    "# cv.imshow(\"erode\", e)\n",
    "# cv.waitKey(0)\n",
    "\n",
    "\n",
    "cv.destroyAllWindows()"
   ]
  },
  {
   "cell_type": "code",
   "execution_count": null,
   "metadata": {},
   "outputs": [],
   "source": [
    "cv.GaussianBlur"
   ]
  },
  {
   "cell_type": "code",
   "execution_count": null,
   "metadata": {},
   "outputs": [],
   "source": []
  }
 ],
 "metadata": {
  "kernelspec": {
   "display_name": "Python 3",
   "language": "python",
   "name": "python3"
  },
  "language_info": {
   "codemirror_mode": {
    "name": "ipython",
    "version": 3
   },
   "file_extension": ".py",
   "mimetype": "text/x-python",
   "name": "python",
   "nbconvert_exporter": "python",
   "pygments_lexer": "ipython3",
   "version": "3.6.8"
  }
 },
 "nbformat": 4,
 "nbformat_minor": 2
}
