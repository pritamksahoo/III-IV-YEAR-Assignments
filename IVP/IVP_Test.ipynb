{
 "cells": [
  {
   "cell_type": "code",
   "execution_count": 1,
   "metadata": {},
   "outputs": [],
   "source": [
    "import cv2 as cv\n",
    "import numpy as np"
   ]
  },
  {
   "cell_type": "code",
   "execution_count": null,
   "metadata": {},
   "outputs": [],
   "source": [
    "path = \"/home/pks/Downloads/Assignment/IVP/mini project/\""
   ]
  },
  {
   "cell_type": "code",
   "execution_count": 29,
   "metadata": {},
   "outputs": [
    {
     "name": "stdout",
     "output_type": "stream",
     "text": [
      "[[(8, 17), (20, 33)], [(22, 15), (33, 34)]]\n",
      "i\n",
      "15 34 8 33\n",
      "start (8, 17) end (20, 33)\n",
      "(8, 17) (20, 33)\n",
      "start (22, 15) end (33, 34)\n",
      "(22, 15) (33, 34)\n",
      "start (43, 1) end (44, 2)\n",
      "start (31, 1) end (38, 2)\n",
      "start (27, 1) end (28, 2)\n",
      "start (46, 0) end (47, 41)\n",
      "start (0, 0) end (26, 2)\n"
     ]
    }
   ],
   "source": [
    "import cv2 as cv\n",
    "import numpy as np\n",
    "import imutils\n",
    "\n",
    "path = \"/home/pks/Downloads/Assignment/IVP/mini project/\"\n",
    "\n",
    "def f(c, th):\n",
    "    contours_poly = cv.approxPolyDP(c, 3, True)\n",
    "    boundRect = cv.boundingRect(contours_poly)\n",
    "    \n",
    "    return boundRect\n",
    "\n",
    "def number_extraction(image):\n",
    "    \n",
    "#     image = cv.GaussianBlur(image, (3,3), 0)\n",
    "    cv.imshow(\"img\", image)\n",
    "    cv.waitKey(0)\n",
    "\n",
    "    _, thresh = cv.threshold(image, 0, 255, cv.THRESH_BINARY_INV+cv.THRESH_OTSU)\n",
    "#     thresh = cv.adaptiveThreshold(image, 255, cv.ADAPTIVE_THRESH_MEAN_C, cv.THRESH_BINARY_INV, 11, 2)\n",
    "#     thresh = cv.Canny(image, 80, 120)\n",
    "    cv.imshow(\"thresh\", thresh)\n",
    "    cv.waitKey(0)\n",
    "    \n",
    "#     kernel = np.ones((3,3), np.uint8)\n",
    "#     thresh = cv.dilate(thresh, kernel, iterations=1)\n",
    "#     cv.imshow(\"thresh\", thresh)\n",
    "#     cv.waitKey(0)\n",
    "#     thresh = cv.erode(thresh, kernel, iterations=1)\n",
    "#     cv.imshow(\"thresh\", thresh)\n",
    "#     cv.waitKey(0)\n",
    "\n",
    "    cnts = cv.findContours(thresh.copy(), cv.RETR_EXTERNAL, cv.CHAIN_APPROX_SIMPLE)\n",
    "    cnts = imutils.grab_contours(cnts)\n",
    "\n",
    "    drawing = image.copy()\n",
    "    rect = list()\n",
    "    for c_el in cnts:\n",
    "        boundRect = f(c_el, thresh)\n",
    "        area, wh_ratio = boundRect[2]*boundRect[3], boundRect[2]/boundRect[3] \n",
    "        if area > 80 and area < 300 and wh_ratio < 3.5 and wh_ratio > 0.28:\n",
    "#             print(cv.contourArea(c_el))\n",
    "    #         print(boundRect)\n",
    "            rect.append([(int(boundRect[0]), int(boundRect[1])), (int(boundRect[0]+boundRect[2]), int(boundRect[1]+boundRect[3]))])\n",
    "\n",
    "            cv.rectangle(drawing, (int(boundRect[0]), int(boundRect[1])), (int(boundRect[0]+boundRect[2]), int(boundRect[1]+boundRect[3])), 0, 1)\n",
    "\n",
    "    \n",
    "    print(rect)\n",
    "    \n",
    "    left = min(rect, key=lambda x: x[0][0])[0][0]\n",
    "    right = max(rect, key=lambda x: x[1][0])[1][0]\n",
    "    top = min(rect, key=lambda x: x[0][1])[0][1]\n",
    "    bottom = max(rect, key=lambda x: x[1][1])[1][1]\n",
    "#     lr_coord = sorted(rect, key=lambda x: (x[0][0], x[1][0]))\n",
    "#     tb_coord = sorted(rect, key=lambda x: (x[0][1], x[1][1]))\n",
    "    \n",
    "#     left, right, top, bottom = lr_coord[0][0][0], lr_coord[-1][1][0], tb_coord[0][0][1], tb_coord[-1][1][1]\n",
    "    print(\"i\")\n",
    "    print(top, bottom, left, right)\n",
    "    \n",
    "    cv.imshow(\"wrap\", drawing)\n",
    "    cv.waitKey(0)\n",
    "    \n",
    "    drawing = image.copy()\n",
    "    ret_val = []\n",
    "#     print(cnts)\n",
    "    for c_el in cnts:\n",
    "        boundRect = f(c_el, thresh)\n",
    "        start, end = (int(boundRect[0]), int(boundRect[1])), (int(boundRect[0]+boundRect[2]), int(boundRect[1]+boundRect[3]))\n",
    "        print(\"start\", start, \"end\", end)\n",
    "        if top <= start[1] and bottom >= end[1] and left <= start[0] and right >= end[0]:\n",
    "            print(start, end)\n",
    "            cv.rectangle(drawing, start, end, 0, 1)\n",
    "            ret_val.append([(int(boundRect[0]), int(boundRect[1])), (int(boundRect[0]+boundRect[2]), int(boundRect[1]+boundRect[3]))])\n",
    "        \n",
    "            cv.imshow(\"wrap\", drawing)\n",
    "            cv.waitKey(0)\n",
    "    \n",
    "    return ret_val, image\n",
    "\n",
    "image = cv.imread(path+\"img20.jpg\", 0)\n",
    "ret, thresh = number_extraction(image.copy())\n",
    "\n",
    "ret = sorted(ret, key=lambda x: (x[0], x[1]))\n",
    "counter = 0\n",
    "for r in ret:\n",
    "    temp = thresh[r[0][1]:r[1][1], r[0][0]:r[1][0]]\n",
    "    cv.imshow(\"temp\", temp)\n",
    "    cv.waitKey(0)\n",
    "    cv.imwrite(path + \"i\" + str(counter) + \".jpg\", temp)\n",
    "    counter = counter + 1\n",
    "\n",
    "\n",
    "cv.destroyAllWindows()"
   ]
  },
  {
   "cell_type": "code",
   "execution_count": 28,
   "metadata": {},
   "outputs": [
    {
     "data": {
      "text/plain": [
       "<function GaussianBlur>"
      ]
     },
     "execution_count": 28,
     "metadata": {},
     "output_type": "execute_result"
    }
   ],
   "source": [
    "cv.GaussianBlur"
   ]
  },
  {
   "cell_type": "code",
   "execution_count": null,
   "metadata": {},
   "outputs": [],
   "source": []
  }
 ],
 "metadata": {
  "kernelspec": {
   "display_name": "Python 3",
   "language": "python",
   "name": "python3"
  },
  "language_info": {
   "codemirror_mode": {
    "name": "ipython",
    "version": 3
   },
   "file_extension": ".py",
   "mimetype": "text/x-python",
   "name": "python",
   "nbconvert_exporter": "python",
   "pygments_lexer": "ipython3",
   "version": "3.6.8"
  }
 },
 "nbformat": 4,
 "nbformat_minor": 2
}
