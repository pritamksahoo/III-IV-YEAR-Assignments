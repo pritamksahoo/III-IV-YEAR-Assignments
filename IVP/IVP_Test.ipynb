{
 "cells": [
  {
   "cell_type": "code",
   "execution_count": null,
   "metadata": {},
   "outputs": [],
   "source": [
    "import cv2 as cv\n",
    "import numpy as np"
   ]
  },
  {
   "cell_type": "code",
   "execution_count": null,
   "metadata": {},
   "outputs": [],
   "source": [
    "path = \"/home/pks/Desktop/CODE/IVP/\""
   ]
  },
  {
   "cell_type": "code",
   "execution_count": 7,
   "metadata": {},
   "outputs": [],
   "source": [
    "import cv2 as cv\n",
    "import numpy as np\n",
    "\n",
    "path = \"/home/pks/Desktop/CODE/IVP/\"\n",
    "\n",
    "image = cv.imread(path+\"j.jpg\", 0)\n",
    "cv.imshow(\"img\", image)\n",
    "cv.waitKey(0)\n",
    "\n",
    "ret, thresh = cv.threshold(image, 100, 255, cv.THRESH_BINARY_INV)\n",
    "# print(thresh)\n",
    "\n",
    "cv.imshow(\"thresh\", thresh)\n",
    "cv.waitKey(0)\n",
    "\n",
    "corner_kernel_1 = np.array([[1,1,1], [0,-1,0], [0,0,0]], dtype=\"int\")\n",
    "corner_kernel_2 = np.array([[-1,1,1], [0,1,0], [-1,-1,0]], dtype=\"int\")\n",
    "corner_kernel_3 = np.array([[0,1,0], [1,1,-1], [0,-1,-1]], dtype=\"int\")\n",
    "corner_kernel_4 = np.array([[0,-1,-1], [1,1,-1], [0,1,0]], dtype=\"int\")\n",
    "\n",
    "corner1 = cv.morphologyEx(thresh, cv.MORPH_HITMISS, corner_kernel_1)\n",
    "corner2 = cv.morphologyEx(thresh, cv.MORPH_HITMISS, corner_kernel_2)\n",
    "corner3 = cv.morphologyEx(thresh, cv.MORPH_HITMISS, corner_kernel_3)\n",
    "corner4 = cv.morphologyEx(thresh, cv.MORPH_HITMISS, corner_kernel_4)\n",
    "\n",
    "corner = cv.bitwise_or(corner1, corner2)\n",
    "corner = cv.bitwise_or(corner, corner3)\n",
    "corner = cv.bitwise_or(corner, corner4)\n",
    "\n",
    "cv.imshow(\"corner-1\", corner)\n",
    "cv.waitKey(0)\n",
    "\n",
    "cv.destroyAllWindows()"
   ]
  },
  {
   "cell_type": "code",
   "execution_count": 4,
   "metadata": {},
   "outputs": [],
   "source": [
    "cv.bitwise_or?"
   ]
  },
  {
   "cell_type": "code",
   "execution_count": null,
   "metadata": {},
   "outputs": [],
   "source": []
  }
 ],
 "metadata": {
  "kernelspec": {
   "display_name": "Python 3",
   "language": "python",
   "name": "python3"
  },
  "language_info": {
   "codemirror_mode": {
    "name": "ipython",
    "version": 3
   },
   "file_extension": ".py",
   "mimetype": "text/x-python",
   "name": "python",
   "nbconvert_exporter": "python",
   "pygments_lexer": "ipython3",
   "version": "3.6.8"
  }
 },
 "nbformat": 4,
 "nbformat_minor": 2
}
